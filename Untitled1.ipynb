{
 "cells": [
  {
   "cell_type": "markdown",
   "id": "c9ba8cd8",
   "metadata": {},
   "source": [
    "Текстовый калькулятор\n",
    "Реализовать текстовый калькулятор для выражения из произвольного количества операций с учетом приоритета операций. (3)\n",
    "Добавить поддержку приоритета операций с помощью скобок. (3)\n",
    "Добавить возможность использования отрицательных чисел.(1)\n",
    "Добавить операции возведения в степень.(1)"
   ]
  },
  {
   "cell_type": "code",
   "execution_count": null,
   "id": "185aa8b0",
   "metadata": {},
   "outputs": [],
   "source": [
    "def main(req):\n",
    "    global numbers\n",
    "    global operatios\n",
    "    numsopers = numbers.update(operations)\n",
    "    req.replace('минус минус', 'плюс')\n",
    "    req.replace('плюс минус', 'минус')\n",
    "    raw_operands = req.split()\n",
    "    operands = [numsopers(i) for i in raw_operands]\n",
    "    if operands[0] == '-':\n",
    "        operands[1] = -operands[1]\n",
    "        operands = operands[1:]\n",
    "    calc(operands)\n",
    "\n",
    "def calc(operands):\n",
    "    global numbers\n",
    "    global operations\n",
    "    priority = {'+': 0, '-': 0, '*': 1, '^': 2}\n",
    "    stack = []\n",
    "    result = []\n",
    "    for i in operands:\n",
    "        if type(i) == int:\n",
    "            result.append(i)\n",
    "        elif i == '(':\n",
    "            stack.append('(')\n",
    "        elif i == ')':\n",
    "            while stack[-1] != '(':\n",
    "                result.append(stack[-1])\n",
    "                stack.pop()\n",
    "            stack.pop()\n",
    "        else:\n",
    "            if stack != []:\n",
    "                if priority(i) > priority(stack[-1]):\n",
    "                    stack.append(i)\n",
    "                else:\n",
    "                    result.append(i)\n",
    "            else:\n",
    "                stack.append(i)\n",
    "    if stack != []:\n",
    "        stack.reverse()\n",
    "        result.extend(stack)\n",
    "    while len()\n",
    "\n",
    "numbers =  {'один':1, 'два':2, 'три':3, 'четыре':4, 'пять':5, 'шесть':6, 'семь':7, 'восемь':8, \n",
    "           'девять':9, 'десять':10, 'одиннадцать':11, 'двенадцать':12, 'тринадцать':13, 'четырнадцать':14, 'пятнадцать':15,\n",
    "           'шестнадцать':16, 'семнадцать':17, 'восемнадцать':18 ,'девятнадцать':19, 'двадцать':20, 'тридцать':30,\n",
    "           'сорок':40, 'пятьдесят':50, 'шестьдесят':60, 'семьдесят':70, 'восемьдесят':80, 'девяносто':90, 'сто':100,\n",
    "            'плюс':'+', 'минус':'-', 'умножить на':'*'}\n",
    "operations = {'плюс':'+', 'минус':'-', 'умножить на':'*', 'в степени': '^'}\n",
    "\n",
    "s = input()\n",
    "main(s)"
   ]
  }
 ],
 "metadata": {
  "kernelspec": {
   "display_name": "Python 3 (ipykernel)",
   "language": "python",
   "name": "python3"
  },
  "language_info": {
   "codemirror_mode": {
    "name": "ipython",
    "version": 3
   },
   "file_extension": ".py",
   "mimetype": "text/x-python",
   "name": "python",
   "nbconvert_exporter": "python",
   "pygments_lexer": "ipython3",
   "version": "3.10.9"
  }
 },
 "nbformat": 4,
 "nbformat_minor": 5
}
